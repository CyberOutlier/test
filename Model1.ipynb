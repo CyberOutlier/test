{
  "nbformat": 4,
  "nbformat_minor": 0,
  "metadata": {
    "colab": {
      "name": "Untitled0.ipynb",
      "provenance": [],
      "collapsed_sections": [],
      "toc_visible": true,
      "authorship_tag": "ABX9TyNuA8QBtdbBqZ/P8vJjQHhP",
      "include_colab_link": true
    },
    "kernelspec": {
      "name": "python3",
      "display_name": "Python 3"
    },
    "language_info": {
      "name": "python"
    }
  },
  "cells": [
    {
      "cell_type": "markdown",
      "metadata": {
        "id": "view-in-github",
        "colab_type": "text"
      },
      "source": [
        "<a href=\"https://colab.research.google.com/github/CyberOutlier/test/blob/master/Model1.ipynb\" target=\"_parent\"><img src=\"https://colab.research.google.com/assets/colab-badge.svg\" alt=\"Open In Colab\"/></a>"
      ]
    },
    {
      "cell_type": "code",
      "metadata": {
        "id": "9uhoaAjmQnVZ"
      },
      "source": [
        "import tensorflow as tf\n"
      ],
      "execution_count": null,
      "outputs": []
    },
    {
      "cell_type": "code",
      "metadata": {
        "colab": {
          "base_uri": "https://localhost:8080/",
          "height": 35
        },
        "id": "ISso4I86Q0f-",
        "outputId": "3cd3aa3d-6354-4c1e-bb36-16c09f6788a9"
      },
      "source": [
        "tf.__version__"
      ],
      "execution_count": null,
      "outputs": [
        {
          "output_type": "execute_result",
          "data": {
            "application/vnd.google.colaboratory.intrinsic+json": {
              "type": "string"
            },
            "text/plain": [
              "'2.4.1'"
            ]
          },
          "metadata": {
            "tags": []
          },
          "execution_count": 18
        }
      ]
    },
    {
      "cell_type": "code",
      "metadata": {
        "id": "GfJ8cjaPQ7YI",
        "colab": {
          "base_uri": "https://localhost:8080/"
        },
        "outputId": "b5cf9a00-d912-481a-fe9f-ea9d63cf6659"
      },
      "source": [
        "import numpy as np\n",
        "\n",
        "print('loading data.....\\n')\n",
        "data = np.loadtxt('/content/sample_data/mnist_train_small.csv', delimiter=',')\n",
        "print('MNIST dataset loaded.\\n')\n",
        "\n",
        "x_train = data[:, 1:]\n",
        "y_train = data[:, 0]\n",
        "x_train = x_train/255.\n",
        "\n",
        "model = tf.keras.models.Sequential([\n",
        "                                    tf.keras.layers.Dense(16, activation ='relu'),\n",
        "                                    tf.keras.layers.Dense(10, activation = 'softmax')\n",
        "])\n",
        "\n",
        "model.compile(optimizer = 'adam',\n",
        "              loss ='sparse_categorical_crossentropy',\n",
        "              metrics = ['accuracy'])\n",
        "print('Training model...\\n')\n",
        "model.fit(x_train, y_train, epochs=25, batch_size=32)\n",
        "print('Model trained succesfully!')"
      ],
      "execution_count": null,
      "outputs": [
        {
          "output_type": "stream",
          "text": [
            "loading data.....\n",
            "\n",
            "MNIST dataset loaded.\n",
            "\n",
            "Training model...\n",
            "\n",
            "Epoch 1/25\n",
            "625/625 [==============================] - 1s 1ms/step - loss: 1.0441 - accuracy: 0.6994\n",
            "Epoch 2/25\n",
            "625/625 [==============================] - 1s 1ms/step - loss: 0.3243 - accuracy: 0.9060\n",
            "Epoch 3/25\n",
            "625/625 [==============================] - 1s 1ms/step - loss: 0.2661 - accuracy: 0.9208\n",
            "Epoch 4/25\n",
            "625/625 [==============================] - 1s 1ms/step - loss: 0.2528 - accuracy: 0.9264\n",
            "Epoch 5/25\n",
            "625/625 [==============================] - 1s 1ms/step - loss: 0.2370 - accuracy: 0.9308\n",
            "Epoch 6/25\n",
            "625/625 [==============================] - 1s 1ms/step - loss: 0.2234 - accuracy: 0.9351\n",
            "Epoch 7/25\n",
            "625/625 [==============================] - 1s 1ms/step - loss: 0.2126 - accuracy: 0.9400\n",
            "Epoch 8/25\n",
            "625/625 [==============================] - 1s 1ms/step - loss: 0.1957 - accuracy: 0.9467\n",
            "Epoch 9/25\n",
            "625/625 [==============================] - 1s 1ms/step - loss: 0.1755 - accuracy: 0.9523\n",
            "Epoch 10/25\n",
            "625/625 [==============================] - 1s 1ms/step - loss: 0.1734 - accuracy: 0.9504\n",
            "Epoch 11/25\n",
            "625/625 [==============================] - 1s 1ms/step - loss: 0.1738 - accuracy: 0.9501\n",
            "Epoch 12/25\n",
            "625/625 [==============================] - 1s 1ms/step - loss: 0.1562 - accuracy: 0.9565\n",
            "Epoch 13/25\n",
            "625/625 [==============================] - 1s 1ms/step - loss: 0.1536 - accuracy: 0.9585\n",
            "Epoch 14/25\n",
            "625/625 [==============================] - 1s 1ms/step - loss: 0.1541 - accuracy: 0.9588\n",
            "Epoch 15/25\n",
            "625/625 [==============================] - 1s 1ms/step - loss: 0.1428 - accuracy: 0.9596\n",
            "Epoch 16/25\n",
            "625/625 [==============================] - 1s 1ms/step - loss: 0.1433 - accuracy: 0.9600\n",
            "Epoch 17/25\n",
            "625/625 [==============================] - 1s 1ms/step - loss: 0.1433 - accuracy: 0.9586\n",
            "Epoch 18/25\n",
            "625/625 [==============================] - 1s 1ms/step - loss: 0.1292 - accuracy: 0.9647\n",
            "Epoch 19/25\n",
            "625/625 [==============================] - 1s 1ms/step - loss: 0.1273 - accuracy: 0.9635\n",
            "Epoch 20/25\n",
            "625/625 [==============================] - 1s 1ms/step - loss: 0.1231 - accuracy: 0.9620\n",
            "Epoch 21/25\n",
            "625/625 [==============================] - 1s 1ms/step - loss: 0.1147 - accuracy: 0.9678\n",
            "Epoch 22/25\n",
            "625/625 [==============================] - 1s 1ms/step - loss: 0.1139 - accuracy: 0.9679\n",
            "Epoch 23/25\n",
            "625/625 [==============================] - 1s 1ms/step - loss: 0.1091 - accuracy: 0.9693\n",
            "Epoch 24/25\n",
            "625/625 [==============================] - 1s 1ms/step - loss: 0.1044 - accuracy: 0.9719\n",
            "Epoch 25/25\n",
            "625/625 [==============================] - 1s 1ms/step - loss: 0.1075 - accuracy: 0.9681\n",
            "Model trained succesfully!\n"
          ],
          "name": "stdout"
        }
      ]
    },
    {
      "cell_type": "markdown",
      "metadata": {
        "id": "3ITU6OAjT56X"
      },
      "source": [
        "# Nieuwe sectie"
      ]
    },
    {
      "cell_type": "markdown",
      "metadata": {
        "id": "0qCFgfSWT6WL"
      },
      "source": [
        "# Nieuwe sectie"
      ]
    }
  ]
}